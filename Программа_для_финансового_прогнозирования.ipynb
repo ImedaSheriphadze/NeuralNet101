{
  "nbformat": 4,
  "nbformat_minor": 0,
  "metadata": {
    "colab": {
      "private_outputs": true,
      "provenance": [],
      "gpuType": "T4",
      "authorship_tag": "ABX9TyPy0DLgP66mvZOCevej+mW7"
    },
    "kernelspec": {
      "name": "python3",
      "display_name": "Python 3"
    },
    "language_info": {
      "name": "python"
    },
    "accelerator": "GPU",
    "gpuClass": "standard"
  },
  "cells": [
    {
      "cell_type": "markdown",
      "source": [
        "Вот программа для финансового прогнозирования, которая извлекает данные из онлайн-источника и использует нейронные сети, чтобы делать прогнозы на следующие пять лет. Программа ориентирована на прогнозирование фондового рынка и отображает результаты в виде графики на экране. Я подробно опишу каждую команду."
      ],
      "metadata": {
        "id": "NP_QpiushPrv"
      }
    },
    {
      "cell_type": "code",
      "source": [
        "# Импорт зависимостей: импортируйте необходимые библиотеки, включая NumPy, Pandas, TensorFlow, matplotlib и yfinance.\n",
        "import numpy as np\n",
        "import pandas as pd\n",
        "import tensorflow as tf\n",
        "import matplotlib.pyplot as plt\n",
        "from sklearn.preprocessing import MinMaxScaler\n",
        "import yfinance as yf"
      ],
      "metadata": {
        "id": "PPoFlzt5hb11"
      },
      "execution_count": null,
      "outputs": []
    },
    {
      "cell_type": "markdown",
      "source": [
        "**Получение данных фондового рынка:** используйте **yf.download()** из библиотеки **yfinance** для получения исторических данных фондового рынка. Укажите символ биржевого тикера (**ticker**), дату начала (**start_date**) и дату окончания (**end_date**)"
      ],
      "metadata": {
        "id": "4l6fz8jth5cF"
      }
    },
    {
      "cell_type": "code",
      "source": [
        "# Получить данные фондового рынка от Yahoo Finance\n",
        "ticker = 'AAPL'  # Биржевой символ\n",
        "start_date = '2010-01-01'  # Дата начала для исторических данных\n",
        "end_date = '2023-12-31'  # Дата окончания для исторических данных"
      ],
      "metadata": {
        "id": "ddbz-o7hiGWF"
      },
      "execution_count": null,
      "outputs": []
    },
    {
      "cell_type": "markdown",
      "source": [
        "Подготовьте набор данных: создайте **DataFrame** (df) для хранения исторических цен на акции."
      ],
      "metadata": {
        "id": "2jLUwD_9jho7"
      }
    },
    {
      "cell_type": "code",
      "source": [
        "data = yf.download(ticker, start=start_date, end=end_date)"
      ],
      "metadata": {
        "id": "RjEN842IjmrR"
      },
      "execution_count": null,
      "outputs": []
    },
    {
      "cell_type": "code",
      "source": [
        "# Подготовьте набор данных\n",
        "df = pd.DataFrame(data['Close'])\n",
        "df.reset_index(inplace=True)\n",
        "df.columns = ['Date', 'Close']"
      ],
      "metadata": {
        "id": "cmvwo1yvjtGH"
      },
      "execution_count": null,
      "outputs": []
    },
    {
      "cell_type": "code",
      "source": [
        "# При необходимости создайте дополнительные функции\n",
        "# Разделите набор данных на наборы для обучения и тестирования.\n",
        "train_size = int(len(df) * 0.8)\n",
        "train_data = df.iloc[:train_size]\n",
        "test_data = df.iloc[train_size:]"
      ],
      "metadata": {
        "id": "SRIDnbFZj4Fp"
      },
      "execution_count": null,
      "outputs": []
    },
    {
      "cell_type": "code",
      "source": [
        "# Масштабировать данные\n",
        "scaler = MinMaxScaler()\n",
        "train_scaled = scaler.fit_transform(train_data['Close'].values.reshape(-1, 1))\n",
        "test_scaled = scaler.transform(test_data['Close'].values.reshape(-1, 1))\n"
      ],
      "metadata": {
        "id": "zfRkp8omkLHB"
      },
      "execution_count": null,
      "outputs": []
    },
    {
      "cell_type": "code",
      "source": [
        "# Определение обучающих последовательностей и меток\n",
        "sequence_length = 30  # Length of input sequences\n",
        "train_sequences = []\n",
        "train_labels = []\n",
        "\n",
        "for i in range(sequence_length, len(train_scaled)):\n",
        "    train_sequences.append(train_scaled[i-sequence_length:i, 0])\n",
        "    train_labels.append(train_scaled[i, 0])\n",
        "\n",
        "train_sequences = np.array(train_sequences)\n",
        "train_labels = np.array(train_labels)"
      ],
      "metadata": {
        "id": "mYWBpxfNkXum"
      },
      "execution_count": null,
      "outputs": []
    },
    {
      "cell_type": "code",
      "source": [
        "# Определите архитектуру нейронной сети\n",
        "model = tf.keras.Sequential()\n",
        "model.add(tf.keras.layers.LSTM(64, input_shape=(sequence_length, 1)))\n",
        "model.add(tf.keras.layers.Dense(1))"
      ],
      "metadata": {
        "id": "NUQflEaEkjvX"
      },
      "execution_count": null,
      "outputs": []
    },
    {
      "cell_type": "code",
      "source": [
        "# Скомпилируйте модель\n",
        "model.compile(loss='mean_squared_error', optimizer='adam')"
      ],
      "metadata": {
        "id": "UM4wK245k2CV"
      },
      "execution_count": null,
      "outputs": []
    },
    {
      "cell_type": "code",
      "source": [
        "# Обучите модель\n",
        "model.fit(train_sequences, train_labels, epochs=100, batch_size=32, verbose=1)\n"
      ],
      "metadata": {
        "id": "2G2HAJpblA4u"
      },
      "execution_count": null,
      "outputs": []
    },
    {
      "cell_type": "code",
      "source": [
        "# Делайте прогнозы на ближайшие пять лет\n",
        "num_predictions = 5 * 252  # 252 торговых дня в году\n",
        "prediction_input = test_scaled[-sequence_length:].reshape(1, -1, 1)\n",
        "predictions = []\n",
        "\n",
        "for _ in range(num_predictions):\n",
        "    prediction = model.predict(prediction_input)\n",
        "    predictions.append(prediction)\n",
        "    prediction_input = np.append(prediction_input[:, 1:, :], prediction.reshape(1, 1, 1), axis=1)\n",
        "\n",
        "predictions = np.array(predictions).reshape(-1, 1)\n",
        "predictions = scaler.inverse_transform(predictions)"
      ],
      "metadata": {
        "id": "ijjr3FNPlVLP"
      },
      "execution_count": null,
      "outputs": []
    },
    {
      "cell_type": "code",
      "source": [
        "# Визуализируйте прогнозы\n",
        "plt.figure(figsize=(12, 6))\n",
        "plt.plot(df['Date'], df['Close'], label='Действительный')\n",
        "plt.plot(test_data['Date'], predictions[:len(test_data)], label='Предсказанный')\n",
        "plt.xlabel('Дата')\n",
        "plt.ylabel('Цена акций')\n",
        "plt.title('Прогноз цен на акции')\n",
        "plt.legend()\n",
        "plt.show()"
      ],
      "metadata": {
        "id": "9H2dBuCMmyoS"
      },
      "execution_count": null,
      "outputs": []
    },
    {
      "cell_type": "code",
      "source": [
        "# Сохраните модель\n",
        "model.save('stock_forecasting_model.h5')"
      ],
      "metadata": {
        "id": "rRiwamsWoF7o"
      },
      "execution_count": null,
      "outputs": []
    }
  ]
}