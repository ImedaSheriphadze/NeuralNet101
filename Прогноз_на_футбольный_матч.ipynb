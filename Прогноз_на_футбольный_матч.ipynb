{
  "nbformat": 4,
  "nbformat_minor": 0,
  "metadata": {
    "colab": {
      "provenance": [],
      "gpuType": "T4",
      "authorship_tag": "ABX9TyOSfTWj+/3+EJ3r48IZN3F5"
    },
    "kernelspec": {
      "name": "python3",
      "display_name": "Python 3"
    },
    "language_info": {
      "name": "python"
    },
    "accelerator": "GPU"
  },
  "cells": [
    {
      "cell_type": "code",
      "source": [
        "import numpy as np\n",
        "from sklearn.neural_network import MLPRegressor\n",
        "import matplotlib.pyplot as plt\n",
        "from sklearn.metrics import mean_squared_error, mean_absolute_error, r2_score\n",
        "\n",
        "# Функция сбора входных данных для позиции\n",
        "def input_position(title):\n",
        "    print(title)\n",
        "    booth_ownership = float(input(\"1. Владение мячом: \"))\n",
        "    attacks = float(input(\"2. Атаки: \"))\n",
        "    dangerous_attacks = float(input(\"3. Опасные атаки: \"))\n",
        "    shots_on_goal = float(input(\"4. Удары по воротам: \"))\n",
        "    shots_on_target = float(input(\"5. Удары в створ: \"))\n",
        "    goals = float(input(\"6. Голы: \"))\n",
        "    return [booth_ownership, attacks, dangerous_attacks, shots_on_goal, shots_on_target, goals]\n",
        "\n",
        "def main():\n",
        "    # Сбор входных данных\n",
        "    country_championship = input(\"Введите чемпионат страны: \")\n",
        "    start_date = input(\"Введите дату начала игры: \")\n",
        "    start_time = input(\"Введите время начала игры: \")\n",
        "    team1_name = input(\"Введите название первой команды: \")\n",
        "    team2_name = input(\"Введите название второй команды: \")\n",
        "\n",
        "    # Сбор входных данных для атакующих и оборонительных позиций\n",
        "    team1_attack_position = input_position(\"Атакующая позиция первой команды:\")\n",
        "    team1_defense_position = input_position(\"Оборонительная позиция первой команды:\")\n",
        "    team2_attack_position = input_position(\"Атакующая позиция второй команды:\")\n",
        "    team2_defense_position = input_position(\"Оборонительная позиция второй команды:\")\n",
        "\n",
        "    # Объедините данные для печати таблицы\n",
        "    table_data = [\n",
        "        (team1_attack_position, team1_defense_position),\n",
        "        (team2_attack_position, team2_defense_position)\n",
        "    ]\n",
        "\n",
        "    # Нейронная сеть и прогностический код\n",
        "    X = np.array([team1_attack_position + team1_defense_position,\n",
        "                  team2_attack_position + team2_defense_position])\n",
        "    y = np.array([[team1_attack_position[-1]],\n",
        "                  [team2_attack_position[-1]]])\n",
        "\n",
        "    model = MLPRegressor(\n",
        "        hidden_layer_sizes=(50, 50),\n",
        "        activation='relu',\n",
        "        solver='adam',\n",
        "        alpha=0.001,\n",
        "        learning_rate='adaptive',\n",
        "        max_iter=10000\n",
        "    )\n",
        "    model.fit(X, y)\n",
        "    y_pred = model.predict(X)\n",
        "\n",
        "    print(\"\\nПрогноз:\")\n",
        "    print(f\"{team1_name} - Ожидаемые голы: {y_pred[0]:.2f}\")\n",
        "    print(f\"{team2_name} - Ожидаемые голы: {y_pred[1]:.2f}\")\n",
        "\n",
        "    # Создайте гистограмму\n",
        "    teams = [team1_name, team2_name]\n",
        "    predicted_goals = [y_pred[0], y_pred[1]]\n",
        "\n",
        "    plt.figure(figsize=(10, 6))\n",
        "    plt.bar(teams, predicted_goals, color=['blue', 'green'])\n",
        "    plt.xlabel('Команды')\n",
        "    plt.ylabel('Ожидаемые голы')\n",
        "    plt.title('Прогноз ожидаемых голов')\n",
        "    plt.show()\n",
        "\n",
        "    mse = mean_squared_error(y, y_pred)\n",
        "    rmse = mean_squared_error(y, y_pred, squared=False)\n",
        "    mae = mean_absolute_error(y, y_pred)\n",
        "    r2 = r2_score(y, y_pred)\n",
        "\n",
        "    print(f\"\\nСреднеквадратическая ошибка: {mse:.2f}\")\n",
        "    print(f\"Среднеквадратичная ошибка: {rmse:.2f}\")\n",
        "    print(f\"Средняя абсолютная ошибка: {mae:.2f}\")\n",
        "    print(f\"R-квадрат: {r2:.2f}\")\n",
        "\n",
        "    accuracy_percentage = model.score(X, y) * 100\n",
        "    print(f\"\\nТочность модели: {accuracy_percentage:.2f}%\")\n",
        "\n",
        "if __name__ == \"__main__\":\n",
        "    main()\n"
      ],
      "metadata": {
        "colab": {
          "base_uri": "https://localhost:8080/",
          "height": 1000
        },
        "id": "Q3agmtQMiXLx",
        "outputId": "01b6c949-3310-4186-ba9c-cab7f159b737"
      },
      "execution_count": 4,
      "outputs": [
        {
          "name": "stdout",
          "output_type": "stream",
          "text": [
            "Введите чемпионат страны: Премьера Дивизион - Перу\n",
            "Введите дату начала игры: 16.08.2023\n",
            "Введите время начала игры: 02:00\n",
            "Введите название первой команды: Melgar\n",
            "Введите название второй команды: UTC Cajamarca\n",
            "Атакующая позиция первой команды:\n",
            "1. Владение мячом: 62.5\n",
            "2. Атаки: 112.4\n",
            "3. Опасные атаки: 63.7\n",
            "4. Удары по воротам: 15.75\n",
            "5. Удары в створ: 5\n",
            "6. Голы: 1.85\n",
            "Оборонительная позиция первой команды:\n",
            "1. Владение мячом: 37.5\n",
            "2. Атаки: 79.1\n",
            "3. Опасные атаки: 31.25\n",
            "4. Удары по воротам: 8.1\n",
            "5. Удары в створ: 3\n",
            "6. Голы: 0.8\n",
            "Атакующая позиция второй команды:\n",
            "1. Владение мячом: 40.6\n",
            "2. Атаки: 85\n",
            "3. Опасные атаки: 48.3\n",
            "4. Удары по воротам: 10.75\n",
            "5. Удары в створ: 4\n",
            "6. Голы: 1\n",
            "Оборонительная позиция второй команды:\n",
            "1. Владение мячом: 59.4\n",
            "2. Атаки: 102.3\n",
            "3. Опасные атаки: 57.05\n",
            "4. Удары по воротам: 14.2\n",
            "5. Удары в створ: 6\n",
            "6. Голы: 1.75\n"
          ]
        },
        {
          "output_type": "stream",
          "name": "stderr",
          "text": [
            "/usr/local/lib/python3.10/dist-packages/sklearn/neural_network/_multilayer_perceptron.py:1623: DataConversionWarning: A column-vector y was passed when a 1d array was expected. Please change the shape of y to (n_samples, ), for example using ravel().\n",
            "  y = column_or_1d(y, warn=True)\n"
          ]
        },
        {
          "output_type": "stream",
          "name": "stdout",
          "text": [
            "\n",
            "Прогноз:\n",
            "Melgar - Ожидаемые голы: 1.85\n",
            "UTC Cajamarca - Ожидаемые голы: 1.04\n"
          ]
        },
        {
          "output_type": "display_data",
          "data": {
            "text/plain": [
              "<Figure size 1000x600 with 1 Axes>"
            ],
            "image/png": "[encoded data removed]"
          },
          "metadata": {}
        },
        {
          "output_type": "stream",
          "name": "stdout",
          "text": [
            "\n",
            "Среднеквадратическая ошибка: 0.00\n",
            "Среднеквадратичная ошибка: 0.03\n",
            "Средняя абсолютная ошибка: 0.02\n",
            "R-квадрат: 1.00\n",
            "\n",
            "Точность модели: 99.62%\n"
          ]
        }
      ]
    }
  ]
}